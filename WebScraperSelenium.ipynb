{
 "cells": [
  {
   "cell_type": "code",
   "execution_count": 22,
   "metadata": {},
   "outputs": [
    {
     "name": "stdout",
     "output_type": "stream",
     "text": [
      "Requirement already satisfied: selenium in c:\\users\\user\\anaconda3\\lib\\site-packages (4.24.0)\n",
      "Requirement already satisfied: urllib3<3,>=1.26 in c:\\users\\user\\anaconda3\\lib\\site-packages (from urllib3[socks]<3,>=1.26->selenium) (2.2.2)\n",
      "Requirement already satisfied: trio~=0.17 in c:\\users\\user\\anaconda3\\lib\\site-packages (from selenium) (0.26.2)\n",
      "Requirement already satisfied: trio-websocket~=0.9 in c:\\users\\user\\anaconda3\\lib\\site-packages (from selenium) (0.11.1)\n",
      "Requirement already satisfied: certifi>=2021.10.8 in c:\\users\\user\\anaconda3\\lib\\site-packages (from selenium) (2024.6.2)\n",
      "Requirement already satisfied: typing_extensions~=4.9 in c:\\users\\user\\anaconda3\\lib\\site-packages (from selenium) (4.11.0)\n",
      "Requirement already satisfied: websocket-client~=1.8 in c:\\users\\user\\anaconda3\\lib\\site-packages (from selenium) (1.8.0)\n",
      "Requirement already satisfied: attrs>=23.2.0 in c:\\users\\user\\anaconda3\\lib\\site-packages (from trio~=0.17->selenium) (24.2.0)\n",
      "Requirement already satisfied: sortedcontainers in c:\\users\\user\\anaconda3\\lib\\site-packages (from trio~=0.17->selenium) (2.4.0)\n",
      "Requirement already satisfied: idna in c:\\users\\user\\anaconda3\\lib\\site-packages (from trio~=0.17->selenium) (3.7)\n",
      "Requirement already satisfied: outcome in c:\\users\\user\\anaconda3\\lib\\site-packages (from trio~=0.17->selenium) (1.3.0.post0)\n",
      "Requirement already satisfied: sniffio>=1.3.0 in c:\\users\\user\\anaconda3\\lib\\site-packages (from trio~=0.17->selenium) (1.3.0)\n",
      "Requirement already satisfied: cffi>=1.14 in c:\\users\\user\\anaconda3\\lib\\site-packages (from trio~=0.17->selenium) (1.16.0)\n",
      "Requirement already satisfied: wsproto>=0.14 in c:\\users\\user\\anaconda3\\lib\\site-packages (from trio-websocket~=0.9->selenium) (1.2.0)\n",
      "Requirement already satisfied: pysocks!=1.5.7,<2.0,>=1.5.6 in c:\\users\\user\\anaconda3\\lib\\site-packages (from urllib3[socks]<3,>=1.26->selenium) (1.7.1)\n",
      "Requirement already satisfied: pycparser in c:\\users\\user\\anaconda3\\lib\\site-packages (from cffi>=1.14->trio~=0.17->selenium) (2.21)\n",
      "Requirement already satisfied: h11<1,>=0.9.0 in c:\\users\\user\\anaconda3\\lib\\site-packages (from wsproto>=0.14->trio-websocket~=0.9->selenium) (0.14.0)\n",
      "Note: you may need to restart the kernel to use updated packages.\n",
      "Note: you may need to restart the kernel to use updated packages.\n"
     ]
    },
    {
     "name": "stderr",
     "output_type": "stream",
     "text": [
      "ERROR: Could not find a version that satisfies the requirement csv (from versions: none)\n",
      "ERROR: No matching distribution found for csv\n"
     ]
    },
    {
     "name": "stdout",
     "output_type": "stream",
     "text": [
      "Requirement already satisfied: webdriver_manager in c:\\users\\user\\anaconda3\\lib\\site-packages (4.0.2)\n",
      "Requirement already satisfied: requests in c:\\users\\user\\anaconda3\\lib\\site-packages (from webdriver_manager) (2.32.2)\n",
      "Requirement already satisfied: python-dotenv in c:\\users\\user\\anaconda3\\lib\\site-packages (from webdriver_manager) (0.21.0)\n",
      "Requirement already satisfied: packaging in c:\\users\\user\\appdata\\roaming\\python\\python312\\site-packages (from webdriver_manager) (24.1)\n",
      "Requirement already satisfied: charset-normalizer<4,>=2 in c:\\users\\user\\anaconda3\\lib\\site-packages (from requests->webdriver_manager) (2.0.4)\n",
      "Requirement already satisfied: idna<4,>=2.5 in c:\\users\\user\\anaconda3\\lib\\site-packages (from requests->webdriver_manager) (3.7)\n",
      "Requirement already satisfied: urllib3<3,>=1.21.1 in c:\\users\\user\\anaconda3\\lib\\site-packages (from requests->webdriver_manager) (2.2.2)\n",
      "Requirement already satisfied: certifi>=2017.4.17 in c:\\users\\user\\anaconda3\\lib\\site-packages (from requests->webdriver_manager) (2024.6.2)\n",
      "Note: you may need to restart the kernel to use updated packages.\n",
      "Requirement already satisfied: beautifulsoup4 in c:\\users\\user\\anaconda3\\lib\\site-packages (4.12.3)\n",
      "Requirement already satisfied: soupsieve>1.2 in c:\\users\\user\\anaconda3\\lib\\site-packages (from beautifulsoup4) (2.5)\n",
      "Note: you may need to restart the kernel to use updated packages.\n"
     ]
    }
   ],
   "source": [
    "%pip install selenium\n",
    "%pip install csv\n",
    "%pip install webdriver_manager\n",
    "%pip install beautifulsoup4\n",
    "\n"
   ]
  },
  {
   "cell_type": "code",
   "execution_count": 23,
   "metadata": {},
   "outputs": [],
   "source": [
    "from selenium import webdriver\n",
    "from bs4 import BeautifulSoup\n",
    "from selenium.webdriver.chrome.service import Service\n",
    "import csv"
   ]
  },
  {
   "cell_type": "code",
   "execution_count": 25,
   "metadata": {},
   "outputs": [
    {
     "name": "stdout",
     "output_type": "stream",
     "text": [
      "Columns:\n",
      "['Geography', 'Canada (map)', 'Products and product groups3, 4', 'April 2024', 'May 2024', 'June 2024', 'July 2024', 'August 2024', '', '2002=100', 'All-items', 'Food5', 'Shelter6', 'Household operations, furnishings and equipment', 'Clothing and footwear', 'Transportation', 'Gasoline', 'Health and personal care', 'Recreation, education and reading', 'Alcoholic beverages, tobacco products and recreational cannabis', 'All-items excluding food and energy7', 'All-items excluding energy7', 'Energy7', 'Goods8', 'Services9']\n",
      "Rows:\n",
      "[['160.6', '161.5', '161.4', '162.1', '161.8'], ['187.4', '189.0', '190.0', '190.5', '190.3'], ['180.8', '181.5', '182.1', '182.5', '183.3'], ['130.9', '131.0', '131.0', '131.7', '131.2'], ['95.0', '95.0', '93.2', '92.6', '92.0'], ['173.8', '173.9', '173.6', '175.9', '173.5'], ['246.3', '243.2', '235.7', '241.4', '235.2'], ['150.0', '151.2', '150.8', '150.8', '151.1'], ['126.6', '129.5', '127.6', '129.1', '128.0'], ['195.9', '196.4', '196.5', '196.4', '197.9'], ['150.5', '151.4', '151.4', '152.0', '151.8'], ['156.6', '157.7', '157.8', '158.5', '158.3'], ['215.2', '212.8', '208.3', '211.6', '208.2'], ['145.4', '145.5', '144.8', '145.1', '144.6'], ['175.5', '177.2', '177.6', '178.8', '178.6']]\n"
     ]
    }
   ],
   "source": [
    "driver = webdriver.Chrome()\n",
    "page_url = 'https://www150.statcan.gc.ca/t1/tbl1/en/tv.action?pid=1810000401'\n",
    "\n",
    "driver.get(page_url)\n",
    "\n",
    "#wait for things to load\n",
    "driver.implicitly_wait(10)\n",
    "\n",
    "#Get the page source\n",
    "page_source = driver.page_source\n",
    "\n",
    "#Parse the html content with bs4\n",
    "soup = BeautifulSoup(page_source, \"html.parser\")\n",
    "\n",
    "#find the table element\n",
    "table = soup.find('table', class_='pub-table')\n",
    "\n",
    "\n",
    "if table:\n",
    "    #get the column headers\n",
    "    headers = [th.get_text().strip() for th in table.find_all('th')]\n",
    "\n",
    "    #extract the rows\n",
    "    rows = []\n",
    "    for tr in table.find_all('tr'):\n",
    "        row = [td.get_text().strip() for td in tr.find_all('td')]\n",
    "        if row:\n",
    "            rows.append(row)\n",
    "    \n",
    "    #Print out column headers\n",
    "    print(\"Columns:\")\n",
    "    print(headers)\n",
    "    print(\"Rows:\")\n",
    "    print(rows)\n",
    "    \n",
    "    headers_tuple = {\n",
    "        'All-items', \n",
    "        'Food5', \n",
    "        'Shelter6', \n",
    "        'Household operations, furnishings and equipment', \n",
    "        'Clothing and footwear', \n",
    "        'Transportation', \n",
    "        'Gasoline', \n",
    "        'Health and personal care', \n",
    "        'Recreation, education and reading', \n",
    "        'Alcoholic beverages, tobacco products and recreational cannabis', \n",
    "        'All-items excluding food and energy7', \n",
    "        'All-items excluding energy7', \n",
    "        'Energy7', \n",
    "        'Goods8', \n",
    "        'Services9'\n",
    "    }\n",
    "    #write the data to csv\n",
    "    #with open ('table_data.csv', 'w', newline=\"\") as csvfile:\n",
    "    #    writer = csv.writer(csvfile)\n",
    "    \n",
    "    \n",
    "else:\n",
    "    print('Headers not found')\n",
    "\n"
   ]
  }
 ],
 "metadata": {
  "kernelspec": {
   "display_name": "base",
   "language": "python",
   "name": "python3"
  },
  "language_info": {
   "codemirror_mode": {
    "name": "ipython",
    "version": 3
   },
   "file_extension": ".py",
   "mimetype": "text/x-python",
   "name": "python",
   "nbconvert_exporter": "python",
   "pygments_lexer": "ipython3",
   "version": "3.12.4"
  }
 },
 "nbformat": 4,
 "nbformat_minor": 2
}
