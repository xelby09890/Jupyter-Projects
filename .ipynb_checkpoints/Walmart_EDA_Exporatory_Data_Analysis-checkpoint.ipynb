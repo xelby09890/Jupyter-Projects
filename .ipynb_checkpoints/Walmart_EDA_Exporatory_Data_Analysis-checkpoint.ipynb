{
 "cells": [
  {
   "cell_type": "code",
   "execution_count": 8,
   "id": "e203913d-b94f-4c08-9737-09ab713d696f",
   "metadata": {
    "scrolled": true
   },
   "outputs": [
    {
     "ename": "SyntaxError",
     "evalue": "expected ':' (1043252765.py, line 11)",
     "output_type": "error",
     "traceback": [
      "\u001b[1;36m  Cell \u001b[1;32mIn[8], line 11\u001b[1;36m\u001b[0m\n\u001b[1;33m    if 'customer_type' in df.columns\u001b[0m\n\u001b[1;37m                                    ^\u001b[0m\n\u001b[1;31mSyntaxError\u001b[0m\u001b[1;31m:\u001b[0m expected ':'\n"
     ]
    }
   ],
   "source": [
    "import pandas as pd\n",
    "import matplotlib as plt\n",
    "\n",
    "#Read a csv file and delimit & enclose the fields\n",
    "df = pd.read_csv('walmart.csv',delimiter=';',quotechar='\"')\n",
    "\n",
    "#Inspect the head (first 5 records of the DataFrame)\n",
    "print(df.head())\n",
    "\n",
    "#Plot total sales by customer_type if the 'customer_type' column exists\n",
    "if 'customer_type' in df.columns\n",
    "    #the figure specifies the width & height if the visual\n",
    "    plt.figure(figure=(10,6))\n",
    "    #grouping by customer_type and summing the 'total' column for each group\n",
    "    df.groupby('customer_type')\n"
   ]
  }
 ],
 "metadata": {
  "kernelspec": {
   "display_name": "Python 3 (ipykernel)",
   "language": "python",
   "name": "python3"
  },
  "language_info": {
   "codemirror_mode": {
    "name": "ipython",
    "version": 3
   },
   "file_extension": ".py",
   "mimetype": "text/x-python",
   "name": "python",
   "nbconvert_exporter": "python",
   "pygments_lexer": "ipython3",
   "version": "3.12.4"
  }
 },
 "nbformat": 4,
 "nbformat_minor": 5
}
